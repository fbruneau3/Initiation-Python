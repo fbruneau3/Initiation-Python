{
 "cells": [
  {
   "cell_type": "markdown",
   "metadata": {},
   "source": [
    "# <center><font color =\"red\">Incertitude sur les mesures de pH réalisées dans le Tp 1</font></center>"
   ]
  },
  {
   "cell_type": "markdown",
   "metadata": {},
   "source": [
    "# <font color=#3D6BBC > Récupération des mesures à la fin du TP</font>"
   ]
  },
  {
   "cell_type": "markdown",
   "metadata": {},
   "source": [
    "<div class=\"bg-danger text-danger\">\n",
    "    \n",
    "- pHi est le pH de la solution i.     \n",
    "- Mettre les valeurs de pHi mesurées dans le tableau excel.   \n",
    "\n",
    "<font color =\"red\">ATTENTION :  </font> Ne pas mettre de virgule mais un point en entrant les valeurs    \n",
    "- **Enregistrer** le fichier mesures_ph au format CSV pour une utilisation dans le programme python. \n",
    "</div>"
   ]
  },
  {
   "cell_type": "markdown",
   "metadata": {},
   "source": [
    "# <font color=#3D6BBC > Traitement statistique d'une série de mesures : incertitude de type A </font>"
   ]
  },
  {
   "cell_type": "markdown",
   "metadata": {},
   "source": [
    "<div class = \"alert alert-info\">\n",
    "\n",
    "\n",
    "**Question 1:**  \n",
    "    \n",
    "Ce programme a été  réalisé pour uniquement 3 solutions. Le modifier pour qu'il prenne en compte les mesures des 6 pH.\n",
    "</div>\n"
   ]
  },
  {
   "cell_type": "markdown",
   "metadata": {},
   "source": [
    "### Importation des données depuis un fichier CSV"
   ]
  },
  {
   "cell_type": "code",
   "execution_count": 1,
   "metadata": {},
   "outputs": [
    {
     "name": "stdout",
     "output_type": "stream",
     "text": [
      "il y a : 16 binômes\n",
      "\n",
      "[{'pH1': '2.3', 'pH2': '2.85', 'pH3': '3.06', 'pH4': '', 'pH5': '', 'pH6': ''}\n",
      " {'pH1': '2.2', 'pH2': '2.76', 'pH3': '3.03', 'pH4': '', 'pH5': '', 'pH6': ''}\n",
      " {'pH1': '2.18', 'pH2': '2.78', 'pH3': '2.99', 'pH4': '', 'pH5': '', 'pH6': ''}\n",
      " {'pH1': '2.07', 'pH2': '2.74', 'pH3': '3.0', 'pH4': '', 'pH5': '', 'pH6': ''}\n",
      " {'pH1': '2.04', 'pH2': '2.75', 'pH3': '3.0', 'pH4': '', 'pH5': '', 'pH6': ''}\n",
      " {'pH1': '2.26', 'pH2': '2.69', 'pH3': '2.87', 'pH4': '', 'pH5': '', 'pH6': ''}\n",
      " {'pH1': '2.04', 'pH2': '2.7', 'pH3': '2.83', 'pH4': '', 'pH5': '', 'pH6': ''}\n",
      " {'pH1': '2.26', 'pH2': '2.87', 'pH3': '3.1', 'pH4': '', 'pH5': '', 'pH6': ''}\n",
      " {'pH1': '2.28', 'pH2': '2.75', 'pH3': '3.02', 'pH4': '', 'pH5': '', 'pH6': ''}\n",
      " {'pH1': '2.25', 'pH2': '2.63', 'pH3': '2.81', 'pH4': '', 'pH5': '', 'pH6': ''}\n",
      " {'pH1': '2.65', 'pH2': '3.06', 'pH3': '3.2', 'pH4': '', 'pH5': '', 'pH6': ''}\n",
      " {'pH1': '2.05', 'pH2': '2.71', 'pH3': '3.1', 'pH4': '', 'pH5': '', 'pH6': ''}\n",
      " {'pH1': '2.14', 'pH2': '2.75', 'pH3': '3.08', 'pH4': '', 'pH5': '', 'pH6': ''}\n",
      " {'pH1': '2.47', 'pH2': '2.92', 'pH3': '3.17', 'pH4': '', 'pH5': '', 'pH6': ''}\n",
      " {'pH1': '2.32', 'pH2': '2.71', 'pH3': '2.96', 'pH4': '', 'pH5': '', 'pH6': ''}\n",
      " {'pH1': '2.32', 'pH2': '2.78', 'pH3': '3.04', 'pH4': '', 'pH5': '', 'pH6': ''}]\n"
     ]
    }
   ],
   "source": [
    "import csv\n",
    "import matplotlib.pyplot as plt\n",
    "%matplotlib inline\n",
    "import numpy as np\n",
    "\n",
    "#Création d'un dictionnaire contenant les valeurs de pH\n",
    "pH = []\n",
    "with open('mesures_ph.csv', newline='') as csvfile:\n",
    "    file = csv.DictReader(csvfile, delimiter=\";\")\n",
    "    for ligne in file:\n",
    "        pH.append(dict(ligne))\n",
    "        \n",
    "nb_mesures=len(pH)\n",
    "print(\"il y a :\", nb_mesures , \"binômes\")\n",
    "print()\n",
    "\n",
    "print(np.array(pH))\n"
   ]
  },
  {
   "cell_type": "markdown",
   "metadata": {},
   "source": [
    "### Création des listes contenant les mesures du pH pour chacune des solutions"
   ]
  },
  {
   "cell_type": "code",
   "execution_count": 2,
   "metadata": {},
   "outputs": [],
   "source": [
    "liste_pH1=[]\n",
    "liste_pH2=[]\n",
    "liste_pH3=[]\n",
    "\n",
    "for groupe in pH:\n",
    "    liste_pH1.append(float(groupe['pH1']))\n",
    "    liste_pH2.append(float(groupe['pH2']))\n",
    "    liste_pH3.append(float(groupe['pH3']))"
   ]
  },
  {
   "cell_type": "code",
   "execution_count": null,
   "metadata": {},
   "outputs": [],
   "source": []
  },
  {
   "cell_type": "markdown",
   "metadata": {},
   "source": [
    "### Tracer des histogrammes"
   ]
  },
  {
   "cell_type": "code",
   "execution_count": 3,
   "metadata": {},
   "outputs": [
    {
     "data": {
      "image/png": "[encoded data removed]",
      "text/plain": [
       "<Figure size 432x288 with 1 Axes>"
      ]
     },
     "metadata": {
      "needs_background": "light"
     },
     "output_type": "display_data"
    },
    {
     "data": {
      "image/png": "[encoded data removed]",
      "text/plain": [
       "<Figure size 432x288 with 1 Axes>"
      ]
     },
     "metadata": {
      "needs_background": "light"
     },
     "output_type": "display_data"
    },
    {
     "data": {
      "image/png": "[encoded data removed]",
      "text/plain": [
       "<Figure size 432x288 with 1 Axes>"
      ]
     },
     "metadata": {
      "needs_background": "light"
     },
     "output_type": "display_data"
    }
   ],
   "source": [
    "plt.figure(1)\n",
    "plt.hist(liste_pH1,color='b')\n",
    "plt.ylabel('Fréquence')\n",
    "plt.xlabel('pH1')\n",
    "plt.title(\"Mesures de pH1 effectuées par \"+str(nb_mesures)+\" groupes.\")\n",
    "plt.figure(2)\n",
    "plt.hist(liste_pH2,color='r')\n",
    "plt.ylabel('Fréquence')\n",
    "plt.xlabel('pH2')\n",
    "plt.title(\"Mesures de pH2 effectuées par \"+str(nb_mesures)+\" groupes.\")\n",
    "plt.figure(3)\n",
    "plt.hist(liste_pH3,color='g')\n",
    "plt.ylabel('Fréquence')\n",
    "plt.xlabel('pH3')\n",
    "plt.title(\"Mesures de pH3 effectuées par \"+str(nb_mesures)+\" groupes.\")\n",
    "plt.show()"
   ]
  },
  {
   "cell_type": "markdown",
   "metadata": {},
   "source": [
    "<div class = \"alert alert-info\">\n",
    "\n",
    "**Question 2:**  \n",
    "    \n",
    "Observer et comparer 6 les histogrammes.   \n",
    "\n",
    "</div>"
   ]
  },
  {
   "cell_type": "markdown",
   "metadata": {},
   "source": [
    "On obtient une courbe de Gauss. "
   ]
  },
  {
   "cell_type": "markdown",
   "metadata": {},
   "source": [
    "<div class = \"alert alert-info\">\n",
    "\n",
    "**Question 3:**  \n",
    "    \n",
    "Quelle peut-être l'origine de la dispersion des résultats? Proposer plusiurs causes éventuelles.\n",
    "Etes-vous sûr du résultat obtenu?\n",
    "\n",
    "</div>"
   ]
  },
  {
   "cell_type": "markdown",
   "metadata": {},
   "source": [
    "En faisant confiance à un seul expérimentateur pris au hasard, nous commettrions une faute.\n",
    "Envisager le résultat d’ensemble et la moyenne de valeurs obtenues conduit à une estimation convenable de la grandeur\n",
    "Le résultat de la mesure du pH n’est pas certain, la mesure est entachée d’incertitude.\n",
    "On pourra donner les résultats sous forme d’un encadrement.\n"
   ]
  },
  {
   "cell_type": "markdown",
   "metadata": {},
   "source": [
    "Nous allons donc calculer l'incertitude sur la mesure du pH **U(pH)**"
   ]
  },
  {
   "cell_type": "markdown",
   "metadata": {},
   "source": [
    "<div class = \"alert alert-info\"> \n",
    "    \n",
    "Voir document **La mesure en sciences expérimentales - Erreurs et incertitudes** \n",
    "\n",
    "</div>"
   ]
  },
  {
   "cell_type": "markdown",
   "metadata": {},
   "source": [
    "<div class = \"alert alert-info\"> \n",
    "    \n",
    "**Question 4:**  \n",
    "Pour chaque solution, calculer :\n",
    "\n",
    "- la moyenne notée moy_phi,\n",
    "- l'écart type noté Sexp_i,\n",
    "- l'incertitude de répétition u$_{rèp}$ noté urep_i\n",
    "- l'incertitude absolue U(pHi), noté U_phi pour un niveau de confiance de 95% soit k=2.  \n",
    "\n",
    "Pour cela vous pourrez vous aider de la **page 543**  de votre livre. Utiliser la syntaxe python et non NumPy.\n",
    "\n",
    "</div>"
   ]
  },
  {
   "cell_type": "markdown",
   "metadata": {},
   "source": [
    "### Solution1"
   ]
  },
  {
   "cell_type": "code",
   "execution_count": 4,
   "metadata": {},
   "outputs": [
    {
     "name": "stdout",
     "output_type": "stream",
     "text": [
      "pH1 moy =  2.24\n",
      "pH2 moy =  2.78\n",
      "pH3 moy =  3.02\n"
     ]
    }
   ],
   "source": [
    "moy_ph1=round(sum(liste_pH1)/nb_mesures,2)\n",
    "moy_ph2=round(sum(liste_pH2)/nb_mesures,2)\n",
    "moy_ph3=round(sum(liste_pH3)/nb_mesures,2)\n",
    "\n",
    "print(\"pH1 moy = \", moy_ph1)\n",
    "print(\"pH2 moy = \", moy_ph2)\n",
    "print(\"pH3 moy = \", moy_ph3)"
   ]
  },
  {
   "cell_type": "code",
   "execution_count": 5,
   "metadata": {},
   "outputs": [
    {
     "name": "stdout",
     "output_type": "stream",
     "text": [
      "écart-type de la solution 1 =  0.163\n"
     ]
    }
   ],
   "source": [
    "#Calcul de l'écart-type du pH de la solution 1\n",
    "somme=0\n",
    "for i in range(nb_mesures):\n",
    "    somme=somme +(liste_pH1[i]-moy_ph1)**2\n",
    "Sexp_1=(somme/(nb_mesures-1))**0.5\n",
    "print(\"écart-type de la solution 1 = \", round(Sexp_1,3))"
   ]
  },
  {
   "cell_type": "code",
   "execution_count": 6,
   "metadata": {},
   "outputs": [
    {
     "name": "stdout",
     "output_type": "stream",
     "text": [
      "l'incertitude de type A pour la solution 1 est : 0.041\n"
     ]
    }
   ],
   "source": [
    "# Calcul de l'incertitude de répétabilité   ou incertitude de type pour la solution 1\n",
    "\n",
    "urep_1=Sexp_1/(nb_mesures)**0.5 \n",
    "print(\"l'incertitude de type A pour la solution 1 est :\" , round(urep_1,3))"
   ]
  },
  {
   "cell_type": "code",
   "execution_count": 7,
   "metadata": {},
   "outputs": [
    {
     "name": "stdout",
     "output_type": "stream",
     "text": [
      "l'incertitude absolue pour la mesure de pH1 est  0.08\n"
     ]
    }
   ],
   "source": [
    "# Calcul de l'incertitude élargie ou incertitude absolue U(pH1)\n",
    "\n",
    "U_ph1= round(2* urep_1,2)\n",
    "print(\"l'incertitude absolue pour la mesure de pH1 est \", U_ph1)"
   ]
  },
  {
   "cell_type": "markdown",
   "metadata": {},
   "source": [
    "<div class = \"alert alert-info\"> \n",
    "    \n",
    "**Question 5:**  \n",
    "Pour chaque solution, donner le résultat sous forme d'un encadrement.\n",
    "Vérifier que cet encadrement contient le pH théorique.\n",
    " \n",
    "</div>"
   ]
  },
  {
   "cell_type": "code",
   "execution_count": 8,
   "metadata": {},
   "outputs": [
    {
     "name": "stdout",
     "output_type": "stream",
     "text": [
      " pH1=  2.24  +/-  0.08\n"
     ]
    }
   ],
   "source": [
    "print(\" pH1= \", moy_ph1, \" +/- \",U_ph1) "
   ]
  },
  {
   "cell_type": "code",
   "execution_count": 9,
   "metadata": {},
   "outputs": [
    {
     "name": "stdout",
     "output_type": "stream",
     "text": [
      "2.16  < pH1 <  2.32\n"
     ]
    }
   ],
   "source": [
    " print( round(moy_ph1-U_ph1,2) ,\" < pH1 < \" ,round(moy_ph1+U_ph1,2))"
   ]
  },
  {
   "cell_type": "code",
   "execution_count": null,
   "metadata": {},
   "outputs": [],
   "source": []
  }
 ],
 "metadata": {
  "kernelspec": {
   "display_name": "Python 3",
   "language": "python",
   "name": "python3"
  },
  "language_info": {
   "codemirror_mode": {
    "name": "ipython",
    "version": 3
   },
   "file_extension": ".py",
   "mimetype": "text/x-python",
   "name": "python",
   "nbconvert_exporter": "python",
   "pygments_lexer": "ipython3",
   "version": "3.7.1"
  }
 },
 "nbformat": 4,
 "nbformat_minor": 2
}
