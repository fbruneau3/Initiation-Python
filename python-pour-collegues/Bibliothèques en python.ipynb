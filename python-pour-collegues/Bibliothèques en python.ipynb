{
 "cells": [
  {
   "cell_type": "markdown",
   "metadata": {},
   "source": [
    "# <center><font color =\"red\">Quelques bibliothèques en Python utiles pour la PC</font></center>"
   ]
  },
  {
   "cell_type": "markdown",
   "metadata": {},
   "source": [
    "Voir Mémo-python-pour-Pc.docx"
   ]
  },
  {
   "cell_type": "markdown",
   "metadata": {},
   "source": [
    "Les **bibliothèques** sont des ensembles de scripts (que nous appellerons modules) rédigés par un tiers, mettant à disposition de nouveaux outils qui n'étaient pas présents. Par exemple, la bibliothèque math mettra à disposition un outil « sqrt » qui permettra de calculer en une instruction la racine carrée d'un nombre."
   ]
  },
  {
   "cell_type": "markdown",
   "metadata": {},
   "source": [
    "#### <font color='red'>matplotlib.pyplot</font>\n",
    "C'est une bibliothèque permettant de faire facilement des graphiques."
   ]
  },
  {
   "cell_type": "markdown",
   "metadata": {},
   "source": [
    "**Exemple 1**"
   ]
  },
  {
   "cell_type": "code",
   "execution_count": 1,
   "metadata": {},
   "outputs": [
    {
     "data": {
      "image/png": "[encoded data removed]",
      "text/plain": [
       "<Figure size 432x288 with 1 Axes>"
      ]
     },
     "metadata": {
      "needs_background": "light"
     },
     "output_type": "display_data"
    }
   ],
   "source": [
    "# programme de tracé simple avec des valeurs d'abscisse et d'ordonnée\n",
    "\n",
    "# importation de la bibliothèque matplotlib.pyplot\n",
    "import matplotlib.pyplot as plt\n",
    "%matplotlib inline\n",
    "\n",
    "# initialisation des données\n",
    "x = (0,1,2,3,4,5)\n",
    "y = (2.1, 3.3, 4.2, 5.1, 6.3, 7.2)\n",
    "\n",
    "# affichage\n",
    "plt.plot(x, y)\n",
    "plt.grid()\n",
    "plt.xlabel(\"abscisse\")\n",
    "plt.ylabel(\"ordonnée\")\n",
    "plt.show()\n"
   ]
  },
  {
   "cell_type": "markdown",
   "metadata": {},
   "source": [
    "**Exemple 2**"
   ]
  },
  {
   "cell_type": "code",
   "execution_count": 3,
   "metadata": {},
   "outputs": [
    {
     "data": {
      "image/png": "[encoded data removed]",
      "text/plain": [
       "<Figure size 432x288 with 1 Axes>"
      ]
     },
     "metadata": {
      "needs_background": "light"
     },
     "output_type": "display_data"
    }
   ],
   "source": [
    "import matplotlib.pyplot as plt\n",
    "%matplotlib inline\n",
    "x = [0, 1, 2, 3, 4, 5, 6, 7, 8, 9, 10]\n",
    "y = [0, 2, 4, 6, 8, 10, 12, 14, 16, 18, 20]\n",
    "plt.plot(x, y, \"+\")\n",
    "plt.arrow(x[3], y[3], 1, 4, color=\"black\", head_width=0.2)\n",
    "plt.show()\n"
   ]
  },
  {
   "cell_type": "markdown",
   "metadata": {},
   "source": [
    "Recopiez le script suivant et commentez les différentes étapes. Modifiez le script de manière à \tchanger l’allure des points et leur couleur et de façon à faire apparaître un titre à la courbe ainsi \tque des noms aux axes."
   ]
  },
  {
   "cell_type": "code",
   "execution_count": null,
   "metadata": {},
   "outputs": [],
   "source": []
  },
  {
   "cell_type": "code",
   "execution_count": null,
   "metadata": {},
   "outputs": [],
   "source": []
  }
 ],
 "metadata": {
  "kernelspec": {
   "display_name": "Python 3",
   "language": "python",
   "name": "python3"
  },
  "language_info": {
   "codemirror_mode": {
    "name": "ipython",
    "version": 3
   },
   "file_extension": ".py",
   "mimetype": "text/x-python",
   "name": "python",
   "nbconvert_exporter": "python",
   "pygments_lexer": "ipython3",
   "version": "3.7.1"
  }
 },
 "nbformat": 4,
 "nbformat_minor": 2
}
