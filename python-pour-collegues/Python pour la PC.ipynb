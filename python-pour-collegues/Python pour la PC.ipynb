{
 "cells": [
  {
   "cell_type": "markdown",
   "metadata": {},
   "source": [
    "# <center><font color =\"red\">1er pas en Python pour la PC</font></center>"
   ]
  },
  {
   "cell_type": "markdown",
   "metadata": {},
   "source": [
    "## <font color=#3D6BBC > 1. Généralités</font>"
   ]
  },
  {
   "cell_type": "markdown",
   "metadata": {},
   "source": [
    "###  Indentation"
   ]
  },
  {
   "cell_type": "markdown",
   "metadata": {},
   "source": [
    "Python oblige le développeur à structurer son code à l'aide des __indentations__: ce sont elles qui détermineront les blocs (séquences d'instructions liées)."
   ]
  },
  {
   "cell_type": "markdown",
   "metadata": {},
   "source": [
    "### Commentaires"
   ]
  },
  {
   "cell_type": "markdown",
   "metadata": {},
   "source": [
    "Le caractère # permet d'indiquer que tous les caractères suivants sur la même ligne ne doivent pas être interprétés. Il s'agit de commentaires."
   ]
  },
  {
   "cell_type": "markdown",
   "metadata": {},
   "source": [
    "## <font color=#3D6BBC > 2. Les variables et l'affectation</font>"
   ]
  },
  {
   "cell_type": "markdown",
   "metadata": {},
   "source": [
    "Une variable en programmation ou en algorithmique est une case mémoire dans l'ordinateur permettant de stocker une information. Celle-ci peut être un nombre, un texte ou une information bien plus complexe.\n",
    "Pour l'ordinateur, il s'agit d'une adresse mémoire, c'est-à-dire un emplacement précis de la mémoire vive.\n",
    "Une variable est constituée de 2 choses:\n",
    "* une valeur : c'est la donnée qu'elle stocke\n",
    "* un nom : permet de la reconnaître. Pas besoin de retenir l'adresse de la mémoire mais seulement le nom de la variable.\n",
    "\n",
    "L'exemple ci-dessous permet d'__affecter la valeur 4 à la variable de nom a__.  \n",
    "<center><font size='4'>a=4</font></center>"
   ]
  },
  {
   "cell_type": "markdown",
   "metadata": {},
   "source": [
    "![center](variable.png)"
   ]
  },
  {
   "cell_type": "markdown",
   "metadata": {},
   "source": [
    "Tester les cellules contenant du code en cliquant sur \"Exécuter\""
   ]
  },
  {
   "cell_type": "code",
   "execution_count": 1,
   "metadata": {},
   "outputs": [],
   "source": [
    "a=4  # a prend la valeur 4 (en langage algorithmique)"
   ]
  },
  {
   "cell_type": "code",
   "execution_count": 2,
   "metadata": {},
   "outputs": [
    {
     "data": {
      "text/plain": [
       "True"
      ]
     },
     "execution_count": 2,
     "metadata": {},
     "output_type": "execute_result"
    }
   ],
   "source": [
    "a==4"
   ]
  },
  {
   "cell_type": "markdown",
   "metadata": {},
   "source": [
    "<u>**Remarque** </u>: a==4 vérifie si la variable a est égale à 4. La réponse est donc un booléen (**_True_** ou **_False_**). True ici car a est bien égale à 4. "
   ]
  },
  {
   "cell_type": "markdown",
   "metadata": {},
   "source": [
    "### Noms des variables et mots réservés\n",
    "Les noms des varaibles doivent obéir à quelques règles simples:\n",
    "  1. Un nom de variable est une séquence de lettres de l'alphabet français(minuscules ou majuscules) et de chiffres et doit toujours commencer par une lettre.\n",
    "  2. Pas de caractères spéciaux sauf l'underscore (tiret du 8), de cédilles, d'espaces.\n",
    "  3. La casse est significative (Albert, albert ou ALBERT sont des variables différentes). En général, les noms sont en minuscules avec éventuellement une majuscule au milieu pour plus de visisbilité ( tailleTableau ou taille_tableau, abscissePoint...)\n",
    "  4. Il y existe également **33 mots clés ou réservés** car utilisés dans le langage Python:\n",
    "![image](mots-clés.png)"
   ]
  },
  {
   "cell_type": "markdown",
   "metadata": {},
   "source": [
    "### les opérateurs\n",
    "Tester les cellules suivantes\n",
    "> a+b  \n",
    "a * b  \n",
    "a * * b     # il s'agit de l'exponentiation (ou puissance)  \n",
    "a / b  \n",
    "a%b    #  se lit a \"modulo\" b  \n",
    "a//b  \n",
    "a * y  \n",
    "y* *2  \n",
    "a + b * 3  # la règle de priorité est-elle respectée?  \n",
    "(a + b ) * 3  "
   ]
  },
  {
   "cell_type": "code",
   "execution_count": 3,
   "metadata": {},
   "outputs": [],
   "source": [
    "a=10\n",
    "b=3"
   ]
  },
  {
   "cell_type": "code",
   "execution_count": 4,
   "metadata": {},
   "outputs": [
    {
     "data": {
      "text/plain": [
       "13"
      ]
     },
     "execution_count": 4,
     "metadata": {},
     "output_type": "execute_result"
    }
   ],
   "source": [
    "#somme de deux variables\n",
    "a+b"
   ]
  },
  {
   "cell_type": "code",
   "execution_count": 5,
   "metadata": {},
   "outputs": [
    {
     "data": {
      "text/plain": [
       "30"
      ]
     },
     "execution_count": 5,
     "metadata": {},
     "output_type": "execute_result"
    }
   ],
   "source": [
    "#Produit de deux variables\n",
    "a*b"
   ]
  },
  {
   "cell_type": "code",
   "execution_count": 6,
   "metadata": {},
   "outputs": [
    {
     "data": {
      "text/plain": [
       "1000"
      ]
     },
     "execution_count": 6,
     "metadata": {},
     "output_type": "execute_result"
    }
   ],
   "source": [
    "#Puissance\n",
    "a**b"
   ]
  },
  {
   "cell_type": "code",
   "execution_count": 7,
   "metadata": {},
   "outputs": [
    {
     "data": {
      "text/plain": [
       "3.3333333333333335"
      ]
     },
     "execution_count": 7,
     "metadata": {},
     "output_type": "execute_result"
    }
   ],
   "source": [
    "#division\n",
    "a/b"
   ]
  },
  {
   "cell_type": "code",
   "execution_count": 8,
   "metadata": {},
   "outputs": [
    {
     "data": {
      "text/plain": [
       "1"
      ]
     },
     "execution_count": 8,
     "metadata": {},
     "output_type": "execute_result"
    }
   ],
   "source": [
    "#reste dans la division euclidienne de a par b\n",
    "a%b           #  se lit a \"modulo\" b "
   ]
  },
  {
   "cell_type": "code",
   "execution_count": 9,
   "metadata": {},
   "outputs": [
    {
     "data": {
      "text/plain": [
       "3"
      ]
     },
     "execution_count": 9,
     "metadata": {},
     "output_type": "execute_result"
    }
   ],
   "source": [
    "#Division entière\n",
    "a//b"
   ]
  },
  {
   "cell_type": "code",
   "execution_count": 10,
   "metadata": {},
   "outputs": [
    {
     "data": {
      "text/plain": [
       "19"
      ]
     },
     "execution_count": 10,
     "metadata": {},
     "output_type": "execute_result"
    }
   ],
   "source": [
    "# Les règles de priorité sont respectées\n",
    "a+ b*3"
   ]
  },
  {
   "cell_type": "code",
   "execution_count": 11,
   "metadata": {},
   "outputs": [
    {
     "data": {
      "text/plain": [
       "39"
      ]
     },
     "execution_count": 11,
     "metadata": {},
     "output_type": "execute_result"
    }
   ],
   "source": [
    "(a+b)*3"
   ]
  },
  {
   "cell_type": "markdown",
   "metadata": {},
   "source": [
    "![image](liste_operateurs.png)"
   ]
  },
  {
   "cell_type": "markdown",
   "metadata": {},
   "source": [
    "### Types des données"
   ]
  },
  {
   "cell_type": "markdown",
   "metadata": {},
   "source": [
    "#### <font color='red'>Les entiers (Interger)</font>"
   ]
  },
  {
   "cell_type": "markdown",
   "metadata": {},
   "source": [
    "En Python, il n'existe aucune limitation sur la taille des entiers.\n",
    "Python3 adapte le nombre de bits à l'entier, et peut donc utiliser beaucoup plus que 64 bits si nécessaire.\n",
    "Pour avoir le type d'une donnée a, il suffit de faire type(a)."
   ]
  },
  {
   "cell_type": "code",
   "execution_count": 12,
   "metadata": {},
   "outputs": [
    {
     "data": {
      "text/plain": [
       "int"
      ]
     },
     "execution_count": 12,
     "metadata": {},
     "output_type": "execute_result"
    }
   ],
   "source": [
    "type(12)"
   ]
  },
  {
   "cell_type": "code",
   "execution_count": 13,
   "metadata": {},
   "outputs": [
    {
     "data": {
      "text/plain": [
       "int"
      ]
     },
     "execution_count": 13,
     "metadata": {},
     "output_type": "execute_result"
    }
   ],
   "source": [
    "type(-12)"
   ]
  },
  {
   "cell_type": "markdown",
   "metadata": {},
   "source": [
    "#### <font color='red'>Les flottants</font>"
   ]
  },
  {
   "cell_type": "markdown",
   "metadata": {},
   "source": [
    "Les réels = nombres à virgule flottante (float). Attention, ce sont des valeurs approchées de réels. . .\n",
    "La virgule s'écrit avec un <u>point<u>."
   ]
  },
  {
   "cell_type": "code",
   "execution_count": 14,
   "metadata": {},
   "outputs": [
    {
     "data": {
      "text/plain": [
       "float"
      ]
     },
     "execution_count": 14,
     "metadata": {},
     "output_type": "execute_result"
    }
   ],
   "source": [
    "type(0.1)"
   ]
  },
  {
   "cell_type": "code",
   "execution_count": 15,
   "metadata": {},
   "outputs": [
    {
     "data": {
      "text/plain": [
       "0.30000000000000004"
      ]
     },
     "execution_count": 15,
     "metadata": {},
     "output_type": "execute_result"
    }
   ],
   "source": [
    "0.1+0.2"
   ]
  },
  {
   "cell_type": "markdown",
   "metadata": {},
   "source": [
    "<font color=\"red\"> Python donne une valeur inexacte du résultat cela vient de la conversion des float en binaire par la méthode de la virgule flottante. </font>"
   ]
  },
  {
   "cell_type": "markdown",
   "metadata": {},
   "source": [
    "On peut connaître la valeur précise qu'on manipule en écrivant un nombre à virgule avec le module decimal de Python."
   ]
  },
  {
   "cell_type": "code",
   "execution_count": 16,
   "metadata": {},
   "outputs": [
    {
     "data": {
      "text/plain": [
       "Decimal('1.100000000000000088817841970012523233890533447265625')"
      ]
     },
     "execution_count": 16,
     "metadata": {},
     "output_type": "execute_result"
    }
   ],
   "source": [
    "import decimal\n",
    "decimal.Decimal.from_float(1.1)"
   ]
  },
  {
   "cell_type": "markdown",
   "metadata": {},
   "source": [
    "<div class=\"bg-danger text-danger\">\n",
    "<strong> Attention !   </strong> <br>    \n",
    "Tout calcul effectué sur des nombres entiers est parfaitement exact. <br>   \n",
    "En revanche, les calculs effectués sur des flottants peuvent être entâchés d'erreurs. Vous trouverez quelques exemples ci-dessous.</div>"
   ]
  },
  {
   "cell_type": "code",
   "execution_count": 17,
   "metadata": {},
   "outputs": [
    {
     "data": {
      "text/plain": [
       "1.9999999999999998"
      ]
     },
     "execution_count": 17,
     "metadata": {},
     "output_type": "execute_result"
    }
   ],
   "source": [
    "1/3 + 1/3 +1/3 + 1/3 + 1/3 +1/3"
   ]
  },
  {
   "cell_type": "code",
   "execution_count": 18,
   "metadata": {},
   "outputs": [
    {
     "data": {
      "text/plain": [
       "2.0"
      ]
     },
     "execution_count": 18,
     "metadata": {},
     "output_type": "execute_result"
    }
   ],
   "source": [
    "6 * 1/3"
   ]
  },
  {
   "cell_type": "markdown",
   "metadata": {},
   "source": [
    "#### A propos de la division\n",
    "Si les entiers n'ont aucune limitation en Python, il n'en est pas de même pour les flottants. Les nombres flottants utilisés par Python suivent la norme IEEE 754 en double précision (codage sur 64 bits). "
   ]
  },
  {
   "cell_type": "code",
   "execution_count": 19,
   "metadata": {},
   "outputs": [
    {
     "data": {
      "text/plain": [
       "2.5714285714285716"
      ]
     },
     "execution_count": 19,
     "metadata": {},
     "output_type": "execute_result"
    }
   ],
   "source": [
    "18/7"
   ]
  },
  {
   "cell_type": "code",
   "execution_count": 21,
   "metadata": {},
   "outputs": [
    {
     "data": {
      "text/plain": [
       "float"
      ]
     },
     "execution_count": 21,
     "metadata": {},
     "output_type": "execute_result"
    }
   ],
   "source": [
    "type(18/7)"
   ]
  },
  {
   "cell_type": "code",
   "execution_count": 20,
   "metadata": {},
   "outputs": [
    {
     "data": {
      "text/plain": [
       "3.0"
      ]
     },
     "execution_count": 20,
     "metadata": {},
     "output_type": "execute_result"
    }
   ],
   "source": [
    "18/6"
   ]
  },
  {
   "cell_type": "code",
   "execution_count": 22,
   "metadata": {},
   "outputs": [
    {
     "data": {
      "text/plain": [
       "float"
      ]
     },
     "execution_count": 22,
     "metadata": {},
     "output_type": "execute_result"
    }
   ],
   "source": [
    "type(18/6)"
   ]
  },
  {
   "cell_type": "markdown",
   "metadata": {},
   "source": [
    "<font color='red'> En Python3, l'opérateur de division donne toujours en résultat un nombre flottant. C'est évident quand la division \"ne tombe pas juste\", mais c'est aussi le cas quand elle tombre juste. </font>"
   ]
  },
  {
   "cell_type": "markdown",
   "metadata": {},
   "source": [
    "<div class=\"bg-danger text-danger\">Il y a un petit nombre “connu” de catastrophes dans la vie réelle qui sont attribuables à une mauvaise gestion de l’arithmétique des ordinateurs (erreurs d’arondis, d’annulation).\n",
    "Dans le premier exemple ci-dessous cela c’est payé en vies humaines.  <br>\n",
    "<strong>Missile Patriot:</strong> <br>\n",
    "En février 1991, pendant la Guerre du Golfe, une batterie américaine de missiles Patriot, à Dharan (Arabie Saoudite), a échoué dans l’interception d’un missile Scud irakien. Le Scud a frappé un baraquement de l’armée américaine et a tué 28 soldats. La commission d’enquête a conclu à un calcul incorrect du temps de parcours, dû à un problème d’arrondi. Les nombres étaient représentés en virgule fixe sur 24 bits, donc 24 chiffres binaires. Le temps était compté parl’horloge interne du système en 1/10 de seconde. Malheureusement, 1/10 n’a pas d’écriture finie dans le système binaire : 1/10 = 0,1 (dans le système décimal)= 0,0001100110011001100110011... (dans le système binaire). L’ordinateur de bord arrondissait 1/10 à 24 chiffres, d’où une petite erreur dans le décompte du temps pour chaque 1/10 de seconde. Au moment de l’attaque, la batterie de missile Patriot était allumée depuis environ 100 heures,ce qui avait entraîné une accumulation des erreurs d’arrondi de 0,34 s. Pendant ce temps, un missile Scud parcourt environ 500 m, ce qui explique que le Patriot soit passé à côté de sa cible. Ce qu’il aurait fallu faire c’était redémarrer régulièrement le système de guidage du missile.  <br>\n",
    "    <strong>Explosion d’Ariane 5 :</strong>   <br>\n",
    "Le 4 juin 1996, une fusée Ariane 5, a son premier lancement, a explosé 40 secondes après l’allumage. La fusée et son chargement avaient coûté 500 millions de dollars. La commission d’enquête a rendu son rapport au bout de deux semaines. Il s’agissait d’une erreur de programmation dans le système inertiel de référence. À un moment donné, un nombre codé en virgule flottante sur 64 bits (qui représentait la vitesse horizontale de la fusée par rapport à la plate-forme de tir) était converti en un entier sur 16 bits. Malheureusement, le nombre en question était plus grand que 32768 (overflow), le plus grand entier que l’on peut coder sur 16 bits, et la conversion a été incorrecte.</div>"
   ]
  },
  {
   "cell_type": "markdown",
   "metadata": {},
   "source": [
    "L'instruction round(x,n) permet d'arrondir une valeur x à n décimales."
   ]
  },
  {
   "cell_type": "code",
   "execution_count": 23,
   "metadata": {},
   "outputs": [
    {
     "data": {
      "text/plain": [
       "2.571"
      ]
     },
     "execution_count": 23,
     "metadata": {},
     "output_type": "execute_result"
    }
   ],
   "source": [
    "round(18/7,3)"
   ]
  },
  {
   "cell_type": "markdown",
   "metadata": {},
   "source": [
    "#### <font color='red'>Les chaînes de caractères</font>"
   ]
  },
  {
   "cell_type": "markdown",
   "metadata": {},
   "source": [
    "Après les nombres, les chaînes de caractères (type string:str) sont des données très fréquemment manipulées par les programmes informatiques.\n",
    "\n",
    "Une chaîne de caractères est une suite de caractères mis les uns après les autres, un caractère pouvant être une lettre (majuscule ou minuscule), un chiffre, un symbole de ponctuation, un espace, et bien d'autres choses encore.\n",
    "\n",
    "En Python, les chaînes de caractères littérales sont écrites en les entourant soit de deux simples quotes (') ou deux doubles quotes (\"). Le deuxième symbole est à privilégier. En effet, cela permet de mettre des accents ou des apostrophes dans la chaîne de caractères."
   ]
  },
  {
   "cell_type": "code",
   "execution_count": 27,
   "metadata": {},
   "outputs": [
    {
     "name": "stdout",
     "output_type": "stream",
     "text": [
      "bonjour\n",
      "4\n",
      "Il fait beau aujourd'hui!\n"
     ]
    }
   ],
   "source": [
    "print(\"bonjour\")\n",
    "print(\"4\")\n",
    "print(\"Il fait beau aujourd'hui!\")"
   ]
  },
  {
   "cell_type": "code",
   "execution_count": 28,
   "metadata": {},
   "outputs": [
    {
     "data": {
      "text/plain": [
       "str"
      ]
     },
     "execution_count": 28,
     "metadata": {},
     "output_type": "execute_result"
    }
   ],
   "source": [
    "type(\"4\")"
   ]
  },
  {
   "cell_type": "markdown",
   "metadata": {},
   "source": [
    "#### <font color='red'>Les listes (type : list)</font>"
   ]
  },
  {
   "cell_type": "markdown",
   "metadata": {},
   "source": [
    "Les tableaux (ou liste) sont des séquences pouvant être modifiées(on parle d'objets __\"mutables\"__).  \n",
    "Un tableau permet de stockées des données.   \n",
    "C'est un ensemble ordonné d'éléments avec des indices pour les repérer. "
   ]
  },
  {
   "cell_type": "markdown",
   "metadata": {},
   "source": [
    "Pour créer une liste, il suffit de séparer les éléments par des virgules et de placer des crochets aux extrémités."
   ]
  },
  {
   "cell_type": "markdown",
   "metadata": {},
   "source": [
    "|   *tableau*                            |    *Type de tableau*                             |\n",
    "|:-------------------------------------- |:-------------------------------------------------|\n",
    "| tab1 = [ 1, 2, 3 ]                     |      tableau d'entiers                           |\n",
    "| tab2 = [ 11.2, 5.0 , 8.0 , 21.5 ]      |      tableau de flottants                        | \n",
    "| tab3 = [[1, 2] , [1] , [2, 1, 3 ] ]    |      tableau de tableau (ou matrice) d'entiers   | \n",
    "| tab4 = [ ]                             |      tableau vide                                |"
   ]
  },
  {
   "cell_type": "markdown",
   "metadata": {},
   "source": [
    "Lire une liste grâce à son indice:\n",
    "![center](liste1.png)"
   ]
  },
  {
   "cell_type": "markdown",
   "metadata": {},
   "source": [
    ">**tab1[2] vaut 3**"
   ]
  },
  {
   "cell_type": "markdown",
   "metadata": {},
   "source": [
    "Pour connaître la longueur d'un tableau, on utilise la fonction prédéfinie **_len()_**. "
   ]
  },
  {
   "cell_type": "code",
   "execution_count": 29,
   "metadata": {},
   "outputs": [
    {
     "name": "stdout",
     "output_type": "stream",
     "text": [
      "la 1ère valeur du tableau est : 1\n",
      "la longueur du tableau est :  3\n"
     ]
    }
   ],
   "source": [
    "tab1=[1,2,3]\n",
    "print(\"la 1ère valeur du tableau est :\" ,tab1[0])\n",
    "print(\"la longueur du tableau est : \" ,len(tab1))"
   ]
  },
  {
   "cell_type": "code",
   "execution_count": 30,
   "metadata": {},
   "outputs": [
    {
     "data": {
      "text/plain": [
       "list"
      ]
     },
     "execution_count": 30,
     "metadata": {},
     "output_type": "execute_result"
    }
   ],
   "source": [
    "type(tab1)"
   ]
  },
  {
   "cell_type": "markdown",
   "metadata": {},
   "source": [
    "Pour modifier les élements d'un tableau, il suffit d'affecter une nouvelle valeur:"
   ]
  },
  {
   "cell_type": "code",
   "execution_count": 31,
   "metadata": {},
   "outputs": [
    {
     "name": "stdout",
     "output_type": "stream",
     "text": [
      "Le nouveau tableau est :  [1, 2, 4]\n"
     ]
    }
   ],
   "source": [
    "tab1[2]=4\n",
    "print(\"Le nouveau tableau est : \", tab1)"
   ]
  },
  {
   "cell_type": "markdown",
   "metadata": {},
   "source": [
    "Il est possible d'ajouter un élément en fin de tableau avec la méthode **append**.\n",
    "On souhaite ajouter à la fin du tableau 1 l'élément 5.6 en exécutant l'instruction suivante:\n",
    "> **tab1.append(5.6)**"
   ]
  },
  {
   "cell_type": "code",
   "execution_count": 32,
   "metadata": {},
   "outputs": [
    {
     "name": "stdout",
     "output_type": "stream",
     "text": [
      "Le nouveau tableau est :  [1, 2, 4, 5.6]\n"
     ]
    }
   ],
   "source": [
    "tab1.append(5.6)\n",
    "print(\"Le nouveau tableau est : \", tab1)"
   ]
  },
  {
   "cell_type": "markdown",
   "metadata": {},
   "source": [
    "#### <font color='red'>La conversion</font>"
   ]
  },
  {
   "cell_type": "markdown",
   "metadata": {},
   "source": [
    "On peut convertir un entier en float, une chaine de caractère en entier ou float."
   ]
  },
  {
   "cell_type": "code",
   "execution_count": 40,
   "metadata": {},
   "outputs": [
    {
     "name": "stdout",
     "output_type": "stream",
     "text": [
      " x =  128\n",
      "Le type de x est :  <class 'str'>\n",
      "y =  128\n",
      "Le type de y est :  <class 'int'>\n",
      " z=  128\n",
      "Le type de z est :  <class 'str'>\n"
     ]
    }
   ],
   "source": [
    "x = \"128\"  # x est ici une chaîne de caractères\n",
    "print(\" x = \", x)\n",
    "print(\"Le type de x est : \", type(x))\n",
    "\n",
    "y = int(x)  # y est maintenant un entier\n",
    "print(\"y = \", y)\n",
    "print(\"Le type de y est : \", type(y))\n",
    "\n",
    "z = str(y)  #conversion inverse\n",
    "print(\" z= \",z)\n",
    "print(\"Le type de z est : \", type(z))"
   ]
  },
  {
   "cell_type": "code",
   "execution_count": 39,
   "metadata": {},
   "outputs": [
    {
     "name": "stdout",
     "output_type": "stream",
     "text": [
      " x =  2\n",
      "Le type de x est :  <class 'int'>\n",
      "y =  2.0\n",
      "Le type de y est :  <class 'float'>\n"
     ]
    }
   ],
   "source": [
    "x = 2\n",
    "print(\" x = \", x)\n",
    "print(\"Le type de x est : \", type(x))\n",
    "y = float(x)# Conversion d'un entier en float\n",
    "print(\"y = \", y)\n",
    "print(\"Le type de y est : \", type(y)) "
   ]
  },
  {
   "cell_type": "code",
   "execution_count": null,
   "metadata": {},
   "outputs": [],
   "source": []
  }
 ],
 "metadata": {
  "kernelspec": {
   "display_name": "Python 3",
   "language": "python",
   "name": "python3"
  },
  "language_info": {
   "codemirror_mode": {
    "name": "ipython",
    "version": 3
   },
   "file_extension": ".py",
   "mimetype": "text/x-python",
   "name": "python",
   "nbconvert_exporter": "python",
   "pygments_lexer": "ipython3",
   "version": "3.7.1"
  }
 },
 "nbformat": 4,
 "nbformat_minor": 2
}
